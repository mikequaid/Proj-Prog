{
 "cells": [
  {
   "cell_type": "markdown",
   "metadata": {},
   "source": [
    "# Choosing a real world phenomenon and dataset\n",
    "\n",
    "As I work in an insurance company and I am part of a team supporting a global claims administration operation I will pick a dataset that would be consistent with my work environment.\n",
    "Claims administration have a rich and deep dataset,with numerous interactions with customers and different channels of communication.\n",
    "\n",
    "When someone buys an insurance policy key information is provided by the customer and when somone makes a claim on their insurance policy further information is provided by the claimant/customer.At first glance there are two potential phenomenons:\n",
    " 1. A customer making a claim provides numerous datapoints,for example policy start date,incident date,claim date,claim amount.All this information enables companies to calculate key financial and actuarial measures,for example claim reserves,headcount requirements,profitability,claim frequency.\n",
    " 2. Claims service being measured....customer experiance (eg.Net Promotor Score) and operational Key Performance Indicators(eg. response times,customer effort)\n",
    "\n",
    "The type of insurance that I will base my analysis on will be payment protection insurance.Payment protection insurance (PPI) is insurance that will pay out a sum of money to help you cover your monthly repayments on mortgages, loans, credit/store cards or catalogue payments if you are unable to work. This may be as a result of illness, accident, death or unemployment and will be covered on your policy [1].PPI is sold to customers between 18 and 65 years of age.\n",
    "\n",
    "### The phenomenon that I will base my project on will be the profile of customers who make a PPI claim.I have the following Hypotheses:\n",
    "\n",
    "#### 1.The credit score of a customer would be medium to high\n",
    "    As PPI is insuring loan repayments the customer would have gone through credit scoring,which is a typical practice of \n",
    "    banks in assessing loan applications.\n",
    "    \n",
    "#### 2.The typical age profile of customers would be 40's\n",
    "    As people approach middle age their financial demands are highest(eg. early to middle stages of mortgage,\n",
    "    kid college loans).The older you get the more repayments you have made and historically people in their 50's and 60's\n",
    "    would have cleared their mortgages.\n",
    "\n",
    "### I will use a dataset of 125 customers in my simulation"
   ]
  },
  {
   "cell_type": "markdown",
   "metadata": {},
   "source": [
    "\n",
    "# Types of variables and distributions\n",
    "\n",
    "## 1.Credit Score\n",
    "There are a number of credit score models globally,but I will use the FICO score [2],where the best credit score is 850 and the worst is 300.The following diagram shows the ranges and % of population that fall into each range.\n",
    "\n",
    "![FICO](https://raw.githubusercontent.com/mikequaid/data/master/FICO.PNG)\n",
    "\n",
    "The FICO credit scores is calculated based on the following:\n",
    "    - 35%: Payment history\n",
    "    - 30%: Amounts owed on credit and debt\n",
    "    - 15%: Length of credit history\n",
    "    - 10%: New credit\n",
    "    - 10%: Types of credit used"
   ]
  },
  {
   "cell_type": "code",
   "execution_count": 23,
   "metadata": {},
   "outputs": [
    {
     "data": {
      "image/png": "[encoded data removed]",
      "text/plain": [
       "<Figure size 432x288 with 1 Axes>"
      ]
     },
     "metadata": {},
     "output_type": "display_data"
    }
   ],
   "source": [
    "# The number of customers will be evenly distributed within the range of 580 to 850.\n",
    "# I am excluding the range of 300 to 579 as it is unlikely that customers in this range would get a loan\n",
    "# I will use random.uniform function to randomly distribute 125 customers within the range 580 to 850\n",
    "\n",
    "import numpy as np\n",
    "import matplotlib.pyplot as plt\n",
    "c = np.random.uniform(580,850,125).round().astype(np.int) # randomly applies a credit score to each customer\n",
    "plt.hist(c)\n",
    "plt.xlabel('Credit score')\n",
    "plt.ylabel('Number of customers')\n",
    "plt.title(\"Histogram of credit scores\")\n",
    "plt.grid(True)\n",
    "plt.show()"
   ]
  },
  {
   "cell_type": "markdown",
   "metadata": {},
   "source": [
    "## 2.Customer age\n",
    "\n",
    "    - The average age of a first-time mortgage borrower is 34 years as per Central Bank [3].Based on the all borrowers (new \n",
    "    and old) I would expect the average age to be in the mid-40's.Based on the Bondora peer-to-peer lending platform the \n",
    "    average age of a borrower is 43 years [4].\n",
    "    - Normal lending rules would incorporate a lower age threshold and upper age threshold,25 years and 65 years would be\n",
    "    representative of these thresholds.\n"
   ]
  },
  {
   "cell_type": "code",
   "execution_count": 2,
   "metadata": {},
   "outputs": [
    {
     "data": {
      "image/png": "[encoded data removed]",
      "text/plain": [
       "<Figure size 432x288 with 1 Axes>"
      ]
     },
     "metadata": {},
     "output_type": "display_data"
    }
   ],
   "source": [
    "# An appropriate method of distribution when there are lower and upper limits would be Triangular distribution [5]\n",
    "# I will use random.triangular function to distribute 125 customers within a lower age of 25,upper age of 65 and mode age of 43\n",
    "\n",
    "age=np.random.triangular(25, 43, 65, 125).round().astype(np.int)\n",
    "h = plt.hist(age, bins=10)\n",
    "plt.xlabel('Customer age')\n",
    "plt.ylabel('Number of customers')\n",
    "plt.title(\"Histogram of customer ages\")\n",
    "plt.grid(True)\n",
    "plt.show()"
   ]
  },
  {
   "cell_type": "code",
   "execution_count": 3,
   "metadata": {},
   "outputs": [
    {
     "data": {
      "text/plain": [
       "125"
      ]
     },
     "execution_count": 3,
     "metadata": {},
     "output_type": "execute_result"
    }
   ],
   "source": [
    "len(age) # Confirming that number of customer ages is 125"
   ]
  },
  {
   "cell_type": "markdown",
   "metadata": {},
   "source": [
    "## 3.Gender\n",
    "\n",
    "    - Simulate the gender of the customer based on the proportion of males and females in the labour market as reported \n",
    "    by the CSO[6]"
   ]
  },
  {
   "cell_type": "code",
   "execution_count": 4,
   "metadata": {},
   "outputs": [
    {
     "data": {
      "text/plain": [
       "125"
      ]
     },
     "execution_count": 4,
     "metadata": {},
     "output_type": "execute_result"
    }
   ],
   "source": [
    "# randomly genereate gender for each customer where male = M and female = F\n",
    "# use a weighting based on CSO Labour Market Statistics [6]\n",
    "\n",
    "g=np.random.choice([\"M\",\"F\"], 125, p=[0.54, 0.46]) \n",
    "len(g) # Confirming that number of customer genders is 125"
   ]
  },
  {
   "cell_type": "markdown",
   "metadata": {},
   "source": [
    "## 4.Occupation Group\n",
    "    - Record each customer in the appropriate Occupation Group as defined by the CSO\n",
    "    - Simulate the Occupation Group of the customer in direct proportion as reported by the CSO \n",
    "\n",
    "\n",
    "![CSO](https://raw.githubusercontent.com/mikequaid/data/master/Occupation_group.PNG)"
   ]
  },
  {
   "cell_type": "code",
   "execution_count": 26,
   "metadata": {},
   "outputs": [
    {
     "data": {
      "text/plain": [
       "125"
      ]
     },
     "execution_count": 26,
     "metadata": {},
     "output_type": "execute_result"
    }
   ],
   "source": [
    "# randomly genereate occupation group by using the random.choice function in numpy package\n",
    "# use a weighting based on CSO Labour Market Statistics [6]\n",
    "\n",
    "o=np.random.choice([\"Agriculture\",\"Construction\",\"Wholesale and retail\",\"Transportation\",\"Accommodation\",\"ICT\",\"Professional\",\n",
    "                    \"Administration\",\"Public\",\"Education\",\"Health\",\"Health\",\"FS\",\"Other\"], 125,\n",
    "                   p=[0.052,0.068,0.133,0.045,0.073,0.044,0.056,0.035,0.048,0.076,0.123,0.195,0.048,0.004]) \n",
    "o\n",
    "len(o) # Confirming that number of occupation groups is 125"
   ]
  },
  {
   "cell_type": "code",
   "execution_count": 6,
   "metadata": {},
   "outputs": [
    {
     "ename": "TypeError",
     "evalue": "<lambda>() missing 1 required positional argument: 'height'",
     "output_type": "error",
     "traceback": [
      "\u001b[1;31m---------------------------------------------------------------------------\u001b[0m",
      "\u001b[1;31mTypeError\u001b[0m                                 Traceback (most recent call last)",
      "\u001b[1;32m<ipython-input-6-ed4603a8f245>\u001b[0m in \u001b[0;36m<module>\u001b[1;34m()\u001b[0m\n\u001b[1;32m----> 1\u001b[1;33m \u001b[0mplt\u001b[0m\u001b[1;33m.\u001b[0m\u001b[0mbar\u001b[0m\u001b[1;33m(\u001b[0m\u001b[0mo\u001b[0m\u001b[1;33m)\u001b[0m\u001b[1;33m\u001b[0m\u001b[0m\n\u001b[0m\u001b[0;32m      2\u001b[0m \u001b[1;31m#o.plot.bar(figsize=(14,7))\u001b[0m\u001b[1;33m\u001b[0m\u001b[1;33m\u001b[0m\u001b[0m\n\u001b[0;32m      3\u001b[0m \u001b[0mobjects\u001b[0m \u001b[1;33m=\u001b[0m \u001b[1;33m(\u001b[0m\u001b[1;34m'Python'\u001b[0m\u001b[1;33m,\u001b[0m \u001b[1;34m'C++'\u001b[0m\u001b[1;33m,\u001b[0m \u001b[1;34m'Java'\u001b[0m\u001b[1;33m,\u001b[0m \u001b[1;34m'Perl'\u001b[0m\u001b[1;33m,\u001b[0m \u001b[1;34m'Scala'\u001b[0m\u001b[1;33m,\u001b[0m \u001b[1;34m'Lisp'\u001b[0m\u001b[1;33m)\u001b[0m\u001b[1;33m\u001b[0m\u001b[0m\n\u001b[0;32m      4\u001b[0m \u001b[0my_pos\u001b[0m \u001b[1;33m=\u001b[0m \u001b[0mnp\u001b[0m\u001b[1;33m.\u001b[0m\u001b[0marange\u001b[0m\u001b[1;33m(\u001b[0m\u001b[0mlen\u001b[0m\u001b[1;33m(\u001b[0m\u001b[0mobjects\u001b[0m\u001b[1;33m)\u001b[0m\u001b[1;33m)\u001b[0m\u001b[1;33m\u001b[0m\u001b[0m\n\u001b[0;32m      5\u001b[0m \u001b[0mperformance\u001b[0m \u001b[1;33m=\u001b[0m \u001b[1;33m[\u001b[0m\u001b[1;36m10\u001b[0m\u001b[1;33m,\u001b[0m\u001b[1;36m8\u001b[0m\u001b[1;33m,\u001b[0m\u001b[1;36m6\u001b[0m\u001b[1;33m,\u001b[0m\u001b[1;36m4\u001b[0m\u001b[1;33m,\u001b[0m\u001b[1;36m2\u001b[0m\u001b[1;33m,\u001b[0m\u001b[1;36m1\u001b[0m\u001b[1;33m]\u001b[0m\u001b[1;33m\u001b[0m\u001b[0m\n",
      "\u001b[1;32m~\\Anaconda3\\lib\\site-packages\\matplotlib\\pyplot.py\u001b[0m in \u001b[0;36mbar\u001b[1;34m(*args, **kwargs)\u001b[0m\n\u001b[0;32m   2768\u001b[0m                       mplDeprecation)\n\u001b[0;32m   2769\u001b[0m     \u001b[1;32mtry\u001b[0m\u001b[1;33m:\u001b[0m\u001b[1;33m\u001b[0m\u001b[0m\n\u001b[1;32m-> 2770\u001b[1;33m         \u001b[0mret\u001b[0m \u001b[1;33m=\u001b[0m \u001b[0max\u001b[0m\u001b[1;33m.\u001b[0m\u001b[0mbar\u001b[0m\u001b[1;33m(\u001b[0m\u001b[1;33m*\u001b[0m\u001b[0margs\u001b[0m\u001b[1;33m,\u001b[0m \u001b[1;33m**\u001b[0m\u001b[0mkwargs\u001b[0m\u001b[1;33m)\u001b[0m\u001b[1;33m\u001b[0m\u001b[0m\n\u001b[0m\u001b[0;32m   2771\u001b[0m     \u001b[1;32mfinally\u001b[0m\u001b[1;33m:\u001b[0m\u001b[1;33m\u001b[0m\u001b[0m\n\u001b[0;32m   2772\u001b[0m         \u001b[0max\u001b[0m\u001b[1;33m.\u001b[0m\u001b[0m_hold\u001b[0m \u001b[1;33m=\u001b[0m \u001b[0mwashold\u001b[0m\u001b[1;33m\u001b[0m\u001b[0m\n",
      "\u001b[1;32m~\\Anaconda3\\lib\\site-packages\\matplotlib\\__init__.py\u001b[0m in \u001b[0;36minner\u001b[1;34m(ax, *args, **kwargs)\u001b[0m\n\u001b[0;32m   1853\u001b[0m                         \u001b[1;34m\"the Matplotlib list!)\"\u001b[0m \u001b[1;33m%\u001b[0m \u001b[1;33m(\u001b[0m\u001b[0mlabel_namer\u001b[0m\u001b[1;33m,\u001b[0m \u001b[0mfunc\u001b[0m\u001b[1;33m.\u001b[0m\u001b[0m__name__\u001b[0m\u001b[1;33m)\u001b[0m\u001b[1;33m,\u001b[0m\u001b[1;33m\u001b[0m\u001b[0m\n\u001b[0;32m   1854\u001b[0m                         RuntimeWarning, stacklevel=2)\n\u001b[1;32m-> 1855\u001b[1;33m             \u001b[1;32mreturn\u001b[0m \u001b[0mfunc\u001b[0m\u001b[1;33m(\u001b[0m\u001b[0max\u001b[0m\u001b[1;33m,\u001b[0m \u001b[1;33m*\u001b[0m\u001b[0margs\u001b[0m\u001b[1;33m,\u001b[0m \u001b[1;33m**\u001b[0m\u001b[0mkwargs\u001b[0m\u001b[1;33m)\u001b[0m\u001b[1;33m\u001b[0m\u001b[0m\n\u001b[0m\u001b[0;32m   1856\u001b[0m \u001b[1;33m\u001b[0m\u001b[0m\n\u001b[0;32m   1857\u001b[0m         inner.__doc__ = _add_data_doc(inner.__doc__,\n",
      "\u001b[1;32m~\\Anaconda3\\lib\\site-packages\\matplotlib\\axes\\_axes.py\u001b[0m in \u001b[0;36mbar\u001b[1;34m(self, *args, **kwargs)\u001b[0m\n\u001b[0;32m   2152\u001b[0m                 \u001b[1;32mbreak\u001b[0m\u001b[1;33m\u001b[0m\u001b[0m\n\u001b[0;32m   2153\u001b[0m         \u001b[1;32melse\u001b[0m\u001b[1;33m:\u001b[0m\u001b[1;33m\u001b[0m\u001b[0m\n\u001b[1;32m-> 2154\u001b[1;33m             \u001b[1;32mraise\u001b[0m \u001b[0mexps\u001b[0m\u001b[1;33m[\u001b[0m\u001b[1;36m0\u001b[0m\u001b[1;33m]\u001b[0m\u001b[1;33m\u001b[0m\u001b[0m\n\u001b[0m\u001b[0;32m   2155\u001b[0m         \u001b[1;31m# if we matched the second-case, then the user passed in\u001b[0m\u001b[1;33m\u001b[0m\u001b[1;33m\u001b[0m\u001b[0m\n\u001b[0;32m   2156\u001b[0m         \u001b[1;31m# left=val as a kwarg which we want to deprecate\u001b[0m\u001b[1;33m\u001b[0m\u001b[1;33m\u001b[0m\u001b[0m\n",
      "\u001b[1;32m~\\Anaconda3\\lib\\site-packages\\matplotlib\\axes\\_axes.py\u001b[0m in \u001b[0;36mbar\u001b[1;34m(self, *args, **kwargs)\u001b[0m\n\u001b[0;32m   2144\u001b[0m         \u001b[1;32mfor\u001b[0m \u001b[0mmatcher\u001b[0m \u001b[1;32min\u001b[0m \u001b[0mmatchers\u001b[0m\u001b[1;33m:\u001b[0m\u001b[1;33m\u001b[0m\u001b[0m\n\u001b[0;32m   2145\u001b[0m             \u001b[1;32mtry\u001b[0m\u001b[1;33m:\u001b[0m\u001b[1;33m\u001b[0m\u001b[0m\n\u001b[1;32m-> 2146\u001b[1;33m                 \u001b[0mdp\u001b[0m\u001b[1;33m,\u001b[0m \u001b[0mx\u001b[0m\u001b[1;33m,\u001b[0m \u001b[0mheight\u001b[0m\u001b[1;33m,\u001b[0m \u001b[0mwidth\u001b[0m\u001b[1;33m,\u001b[0m \u001b[0my\u001b[0m\u001b[1;33m,\u001b[0m \u001b[0mkwargs\u001b[0m \u001b[1;33m=\u001b[0m \u001b[0mmatcher\u001b[0m\u001b[1;33m(\u001b[0m\u001b[1;33m*\u001b[0m\u001b[0margs\u001b[0m\u001b[1;33m,\u001b[0m \u001b[1;33m**\u001b[0m\u001b[0mkwargs\u001b[0m\u001b[1;33m)\u001b[0m\u001b[1;33m\u001b[0m\u001b[0m\n\u001b[0m\u001b[0;32m   2147\u001b[0m             \u001b[1;32mexcept\u001b[0m \u001b[0mTypeError\u001b[0m \u001b[1;32mas\u001b[0m \u001b[0me\u001b[0m\u001b[1;33m:\u001b[0m\u001b[1;33m\u001b[0m\u001b[0m\n\u001b[0;32m   2148\u001b[0m                 \u001b[1;31m# This can only come from a no-match as there is\u001b[0m\u001b[1;33m\u001b[0m\u001b[1;33m\u001b[0m\u001b[0m\n",
      "\u001b[1;31mTypeError\u001b[0m: <lambda>() missing 1 required positional argument: 'height'"
     ]
    },
    {
     "data": {
      "image/png": "[encoded data removed]",
      "text/plain": [
       "<Figure size 432x288 with 1 Axes>"
      ]
     },
     "metadata": {},
     "output_type": "display_data"
    }
   ],
   "source": [
    "plt.bar(o)\n",
    "#o.plot.bar(figsize=(14,7))\n",
    "objects = ('Python', 'C++', 'Java', 'Perl', 'Scala', 'Lisp')\n",
    "y_pos = np.arange(len(objects))\n",
    "performance = [10,8,6,4,2,1]\n",
    " \n",
    "plt.bar(y_pos, performance, align='center', alpha=0.5)\n",
    "plt.xticks(y_pos, objects)\n",
    "plt.ylabel('Usage')\n",
    "plt.title('Programming language usage')\n",
    "plt.show()"
   ]
  },
  {
   "cell_type": "markdown",
   "metadata": {},
   "source": [
    "## 5.Incident Week"
   ]
  },
  {
   "cell_type": "code",
   "execution_count": 30,
   "metadata": {},
   "outputs": [
    {
     "data": {
      "text/plain": [
       "125"
      ]
     },
     "execution_count": 30,
     "metadata": {},
     "output_type": "execute_result"
    }
   ],
   "source": [
    "import pandas as pd\n",
    "rng = pd.date_range('1/1/2015', periods = 125, freq = 'W')\n",
    "len(rng) # Confirming that number of weeks is 125"
   ]
  },
  {
   "cell_type": "markdown",
   "metadata": {},
   "source": [
    "## 6.Insurance claim amount"
   ]
  },
  {
   "cell_type": "code",
   "execution_count": 31,
   "metadata": {},
   "outputs": [
    {
     "data": {
      "text/plain": [
       "125"
      ]
     },
     "execution_count": 31,
     "metadata": {},
     "output_type": "execute_result"
    }
   ],
   "source": [
    "a = np.random.uniform(3000,6000,125).round().astype(np.int) # randomly applies an amount to each customer\n",
    "len(a) # Confirming that number of claim amounts is 125"
   ]
  },
  {
   "cell_type": "markdown",
   "metadata": {},
   "source": [
    "# Simulating the data,summarising the data and displaying any relationships"
   ]
  },
  {
   "cell_type": "code",
   "execution_count": 33,
   "metadata": {},
   "outputs": [
    {
     "data": {
      "text/html": [
       "<div>\n",
       "<style scoped>\n",
       "    .dataframe tbody tr th:only-of-type {\n",
       "        vertical-align: middle;\n",
       "    }\n",
       "\n",
       "    .dataframe tbody tr th {\n",
       "        vertical-align: top;\n",
       "    }\n",
       "\n",
       "    .dataframe thead th {\n",
       "        text-align: right;\n",
       "    }\n",
       "</style>\n",
       "<table border=\"1\" class=\"dataframe\">\n",
       "  <thead>\n",
       "    <tr style=\"text-align: right;\">\n",
       "      <th></th>\n",
       "      <th>score</th>\n",
       "      <th>Age</th>\n",
       "      <th>G</th>\n",
       "      <th>occupation group</th>\n",
       "      <th>Incident Week</th>\n",
       "      <th>Claim Amount</th>\n",
       "    </tr>\n",
       "  </thead>\n",
       "  <tbody>\n",
       "    <tr>\n",
       "      <th>0</th>\n",
       "      <td>687</td>\n",
       "      <td>38</td>\n",
       "      <td>F</td>\n",
       "      <td>Wholesale and retail</td>\n",
       "      <td>2015-01-04</td>\n",
       "      <td>4786</td>\n",
       "    </tr>\n",
       "    <tr>\n",
       "      <th>1</th>\n",
       "      <td>759</td>\n",
       "      <td>45</td>\n",
       "      <td>M</td>\n",
       "      <td>Education</td>\n",
       "      <td>2015-01-11</td>\n",
       "      <td>5746</td>\n",
       "    </tr>\n",
       "    <tr>\n",
       "      <th>2</th>\n",
       "      <td>607</td>\n",
       "      <td>30</td>\n",
       "      <td>M</td>\n",
       "      <td>Wholesale and retail</td>\n",
       "      <td>2015-01-18</td>\n",
       "      <td>4757</td>\n",
       "    </tr>\n",
       "    <tr>\n",
       "      <th>3</th>\n",
       "      <td>705</td>\n",
       "      <td>51</td>\n",
       "      <td>F</td>\n",
       "      <td>Construction</td>\n",
       "      <td>2015-01-25</td>\n",
       "      <td>5660</td>\n",
       "    </tr>\n",
       "    <tr>\n",
       "      <th>4</th>\n",
       "      <td>720</td>\n",
       "      <td>40</td>\n",
       "      <td>M</td>\n",
       "      <td>Agriculture</td>\n",
       "      <td>2015-02-01</td>\n",
       "      <td>3247</td>\n",
       "    </tr>\n",
       "    <tr>\n",
       "      <th>5</th>\n",
       "      <td>714</td>\n",
       "      <td>55</td>\n",
       "      <td>M</td>\n",
       "      <td>Health</td>\n",
       "      <td>2015-02-08</td>\n",
       "      <td>3662</td>\n",
       "    </tr>\n",
       "    <tr>\n",
       "      <th>6</th>\n",
       "      <td>637</td>\n",
       "      <td>44</td>\n",
       "      <td>M</td>\n",
       "      <td>Administration</td>\n",
       "      <td>2015-02-15</td>\n",
       "      <td>4856</td>\n",
       "    </tr>\n",
       "    <tr>\n",
       "      <th>7</th>\n",
       "      <td>633</td>\n",
       "      <td>46</td>\n",
       "      <td>F</td>\n",
       "      <td>Agriculture</td>\n",
       "      <td>2015-02-22</td>\n",
       "      <td>3400</td>\n",
       "    </tr>\n",
       "    <tr>\n",
       "      <th>8</th>\n",
       "      <td>674</td>\n",
       "      <td>35</td>\n",
       "      <td>F</td>\n",
       "      <td>Wholesale and retail</td>\n",
       "      <td>2015-03-01</td>\n",
       "      <td>5282</td>\n",
       "    </tr>\n",
       "    <tr>\n",
       "      <th>9</th>\n",
       "      <td>668</td>\n",
       "      <td>60</td>\n",
       "      <td>M</td>\n",
       "      <td>Health</td>\n",
       "      <td>2015-03-08</td>\n",
       "      <td>4172</td>\n",
       "    </tr>\n",
       "  </tbody>\n",
       "</table>\n",
       "</div>"
      ],
      "text/plain": [
       "   score  Age  G      occupation group Incident Week  Claim Amount\n",
       "0    687   38  F  Wholesale and retail    2015-01-04          4786\n",
       "1    759   45  M             Education    2015-01-11          5746\n",
       "2    607   30  M  Wholesale and retail    2015-01-18          4757\n",
       "3    705   51  F          Construction    2015-01-25          5660\n",
       "4    720   40  M           Agriculture    2015-02-01          3247\n",
       "5    714   55  M                Health    2015-02-08          3662\n",
       "6    637   44  M        Administration    2015-02-15          4856\n",
       "7    633   46  F           Agriculture    2015-02-22          3400\n",
       "8    674   35  F  Wholesale and retail    2015-03-01          5282\n",
       "9    668   60  M                Health    2015-03-08          4172"
      ]
     },
     "execution_count": 33,
     "metadata": {},
     "output_type": "execute_result"
    }
   ],
   "source": [
    "import pandas as pd # pandas to create the dataframe\n",
    "data = ({'score': [c],'Age': [age],'G': [g],'occupation group' : [o],'Incident Date' : [rng],'Claim Amount' : [a]})\n",
    "df = pd.DataFrame({\"score\" : c, \"Age\" : age, \"G\" : g, \"occupation group\" : o,\"Incident Week\" : rng,\"Claim Amount\" : a})\n",
    "df.head(10)"
   ]
  },
  {
   "cell_type": "code",
   "execution_count": 34,
   "metadata": {},
   "outputs": [
    {
     "data": {
      "text/html": [
       "<div>\n",
       "<style scoped>\n",
       "    .dataframe tbody tr th:only-of-type {\n",
       "        vertical-align: middle;\n",
       "    }\n",
       "\n",
       "    .dataframe tbody tr th {\n",
       "        vertical-align: top;\n",
       "    }\n",
       "\n",
       "    .dataframe thead th {\n",
       "        text-align: right;\n",
       "    }\n",
       "</style>\n",
       "<table border=\"1\" class=\"dataframe\">\n",
       "  <thead>\n",
       "    <tr style=\"text-align: right;\">\n",
       "      <th></th>\n",
       "      <th>score</th>\n",
       "      <th>Age</th>\n",
       "      <th>Claim Amount</th>\n",
       "    </tr>\n",
       "  </thead>\n",
       "  <tbody>\n",
       "    <tr>\n",
       "      <th>count</th>\n",
       "      <td>125</td>\n",
       "      <td>125</td>\n",
       "      <td>125</td>\n",
       "    </tr>\n",
       "    <tr>\n",
       "      <th>mean</th>\n",
       "      <td>717</td>\n",
       "      <td>43</td>\n",
       "      <td>4481</td>\n",
       "    </tr>\n",
       "    <tr>\n",
       "      <th>std</th>\n",
       "      <td>76</td>\n",
       "      <td>8</td>\n",
       "      <td>861</td>\n",
       "    </tr>\n",
       "    <tr>\n",
       "      <th>min</th>\n",
       "      <td>581</td>\n",
       "      <td>28</td>\n",
       "      <td>3072</td>\n",
       "    </tr>\n",
       "    <tr>\n",
       "      <th>25%</th>\n",
       "      <td>657</td>\n",
       "      <td>38</td>\n",
       "      <td>3662</td>\n",
       "    </tr>\n",
       "    <tr>\n",
       "      <th>50%</th>\n",
       "      <td>720</td>\n",
       "      <td>42</td>\n",
       "      <td>4563</td>\n",
       "    </tr>\n",
       "    <tr>\n",
       "      <th>75%</th>\n",
       "      <td>773</td>\n",
       "      <td>50</td>\n",
       "      <td>5116</td>\n",
       "    </tr>\n",
       "    <tr>\n",
       "      <th>max</th>\n",
       "      <td>850</td>\n",
       "      <td>60</td>\n",
       "      <td>5992</td>\n",
       "    </tr>\n",
       "  </tbody>\n",
       "</table>\n",
       "</div>"
      ],
      "text/plain": [
       "       score  Age  Claim Amount\n",
       "count    125  125           125\n",
       "mean     717   43          4481\n",
       "std       76    8           861\n",
       "min      581   28          3072\n",
       "25%      657   38          3662\n",
       "50%      720   42          4563\n",
       "75%      773   50          5116\n",
       "max      850   60          5992"
      ]
     },
     "execution_count": 34,
     "metadata": {},
     "output_type": "execute_result"
    }
   ],
   "source": [
    "# \n",
    "df.describe().round().astype(np.int)"
   ]
  },
  {
   "cell_type": "code",
   "execution_count": 48,
   "metadata": {},
   "outputs": [
    {
     "ename": "NameError",
     "evalue": "name 'groupby' is not defined",
     "output_type": "error",
     "traceback": [
      "\u001b[1;31m---------------------------------------------------------------------------\u001b[0m",
      "\u001b[1;31mNameError\u001b[0m                                 Traceback (most recent call last)",
      "\u001b[1;32m<ipython-input-48-88ca8e8154cf>\u001b[0m in \u001b[0;36m<module>\u001b[1;34m()\u001b[0m\n\u001b[0;32m      1\u001b[0m \u001b[1;33m\u001b[0m\u001b[0m\n\u001b[1;32m----> 2\u001b[1;33m \u001b[0max\u001b[0m \u001b[1;33m=\u001b[0m \u001b[0mdf\u001b[0m\u001b[1;33m.\u001b[0m\u001b[0mplot\u001b[0m\u001b[1;33m.\u001b[0m\u001b[0mbar\u001b[0m\u001b[1;33m(\u001b[0m\u001b[0my\u001b[0m\u001b[1;33m=\u001b[0m\u001b[1;34m'Claim Amount'\u001b[0m\u001b[1;33m,\u001b[0m\u001b[0mx\u001b[0m\u001b[1;33m=\u001b[0m\u001b[0mgroupby\u001b[0m\u001b[1;33m(\u001b[0m\u001b[1;34m'occupation group'\u001b[0m\u001b[1;33m)\u001b[0m\u001b[1;33m)\u001b[0m\u001b[1;33m\u001b[0m\u001b[0m\n\u001b[0m\u001b[0;32m      3\u001b[0m \u001b[0mplt\u001b[0m\u001b[1;33m.\u001b[0m\u001b[0mshow\u001b[0m\u001b[1;33m(\u001b[0m\u001b[1;33m)\u001b[0m\u001b[1;33m\u001b[0m\u001b[0m\n",
      "\u001b[1;31mNameError\u001b[0m: name 'groupby' is not defined"
     ]
    }
   ],
   "source": [
    "\n",
    "ax = df.plot.bar(y='Claim Amount',x=groupby('occupation group'))\n",
    "plt.show()"
   ]
  },
  {
   "cell_type": "code",
   "execution_count": 42,
   "metadata": {},
   "outputs": [
    {
     "data": {
      "image/png": "[encoded data removed]",
      "text/plain": [
       "<Figure size 432x288 with 1 Axes>"
      ]
     },
     "metadata": {},
     "output_type": "display_data"
    }
   ],
   "source": [
    "\n",
    "ax = df.plot.bar(y='Claim Amount', rot=0)\n",
    "plt.show()"
   ]
  },
  {
   "cell_type": "code",
   "execution_count": 45,
   "metadata": {},
   "outputs": [
    {
     "data": {
      "image/png": "[encoded data removed]",
      "text/plain": [
       "<Figure size 432x288 with 1 Axes>"
      ]
     },
     "metadata": {},
     "output_type": "display_data"
    }
   ],
   "source": [
    "# Present the claim amounts over a 10 week period\n",
    "sns.lineplot(x=\"Incident Week\", y=\"Claim Amount\", data=df[25:34])\n",
    "plt.show()"
   ]
  },
  {
   "cell_type": "code",
   "execution_count": 35,
   "metadata": {},
   "outputs": [
    {
     "data": {
      "image/png": "[encoded data removed]",
      "text/plain": [
       "<Figure size 540x540 with 12 Axes>"
      ]
     },
     "metadata": {},
     "output_type": "display_data"
    }
   ],
   "source": [
    "import seaborn as sns\n",
    "sns.pairplot(df) # , height = 5\n",
    "plt.show()"
   ]
  },
  {
   "cell_type": "code",
   "execution_count": null,
   "metadata": {},
   "outputs": [],
   "source": [
    "%matplotlib inline\n",
    "import numpy as np\n",
    "import matplotlib.pyplot as plt\n",
    "\n",
    "mu, sigma = 34, 0.2 # Create Mean and Standard Deviation variables\n",
    "s = np.random.normal(mu, sigma, 150)\n",
    " \n",
    "count, bins, ignored = plt.hist(s, 20, normed=True) # Create the bins and histogram \n",
    "\n",
    "# Plot the distribution curve\n",
    "plt.plot(bins, 1/(sigma * np.sqrt(2 * np.pi)) *\n",
    "    np.exp( - (bins - mu)**2 / (2 * sigma**2) ),       linewidth=3, color='r')\n",
    "plt.xlabel('Mean and standard deviations') # x axis label \n",
    "plt.title(' Normal distribution') # Add title\n",
    "plt.show()\n"
   ]
  },
  {
   "cell_type": "code",
   "execution_count": null,
   "metadata": {},
   "outputs": [],
   "source": [
    "%matplotlib inline\n",
    "import numpy as np\n",
    "import matplotlib.pyplot as plt\n",
    "\n",
    "bins = np.linspace(18, 65, 10) # linspace returns evenly spaced numbers over a specified interval\n",
    "\n",
    "plt.hist([cust_age], bins, label=['Customer Age']) # Adding distribution samples and labelling them\n",
    "plt.ylabel('Count of customers') # y axis label\n",
    "plt.xlabel('Customer Age') # x axis label\n",
    "plt.title('Customer age') # add title\n",
    "\n",
    "plt.show()"
   ]
  },
  {
   "cell_type": "code",
   "execution_count": null,
   "metadata": {},
   "outputs": [],
   "source": [
    "# Display the spread of customer ages,note that insurance is sold to customers between 18 and 65 years of age\n",
    "import numpy as np\n",
    "import seaborn as sns \n",
    "import matplotlib.pyplot as plt\n",
    "%matplotlib inline\n",
    " \n",
    "cust = np.random.choice(101, 100) # generates an array of 100 numbers between 1 and 100\n",
    "cust_age = np.random.randint(18, 65, 100) # randomly assigns ages between 18 and 65 years of age\n",
    "sns.scatterplot(cust,cust_age)\n",
    "plt.xlabel(\"Count of customers\")\n",
    "plt.ylabel(\"Customer age\")\n",
    "plt.show()"
   ]
  },
  {
   "cell_type": "code",
   "execution_count": null,
   "metadata": {},
   "outputs": [],
   "source": [
    "np.percentile(age, 80).round()\n",
    "np.median(age)\n",
    "np.mean(age)\n",
    "np.random.seed()\n",
    "import statistics\n",
    "statistics.mode(age)\n",
    "from itertools import groupby\n",
    "g = np.random.binomial(1, .5, 125)\n",
    "department = ([\"Munster\", \"Leinster\", \"Conn\", \"Ulster\"])\n",
    "np.random.seed(46)\n",
    "dept = [np.random.choice(department) for i in range(125)]\n",
    "len(dept)\n",
    "import sklearn.neighbors as nei"
   ]
  },
  {
   "cell_type": "markdown",
   "metadata": {},
   "source": []
  },
  {
   "cell_type": "markdown",
   "metadata": {},
   "source": [
    "# References:\n",
    "\n",
    "[1] CPCC https://www.ccpc.ie/consumers/money/insurance/payment-protection-insurance/\n",
    "\n",
    "[2] Wikipedia FICO https://en.wikipedia.org/wiki/Credit_score_in_the_United_States#FICO_score\n",
    "\n",
    "[3] Central Bank Economic Publication 25/05/2017:Measures and Irish Mortgage Lending: An Overview of Lending in 2016 https://www.centralbank.ie/docs/default-source/publications/economic-letters/vol-2017-no-6---macroprudential-and-irish-mortgage-lending-an-overview-of-lending-in-2016-kinghan-lyons-mccarthy-and-o'toole.pdf?sfvrsn=6\n",
    "\n",
    "[4]   https://www.bondora.com/blog/what-is-the-average-age-of-our-borrowers/\n",
    "\n",
    "[5] Wikipedia https://en.wikipedia.org/wiki/Triangular_distribution\n",
    "\n",
    "[6] CSO Labour Market Statistics https://www.cso.ie/px/pxeirestat/statire/SelectTable/Omrade0.asp?Planguage=0\n",
    "\n",
    "https://www.cso.ie/px/pxeirestat/Statire/SelectVarVal/saveselections.asp\n",
    "\n",
    "\n",
    "  https://files.consumerfinance.gov/f/documents/201605_cfpb_nsm-technical-report-16-01.pdf\n",
    "  \n",
    "  "
   ]
  },
  {
   "cell_type": "code",
   "execution_count": null,
   "metadata": {},
   "outputs": [],
   "source": []
  },
  {
   "cell_type": "code",
   "execution_count": null,
   "metadata": {},
   "outputs": [],
   "source": []
  }
 ],
 "metadata": {
  "kernelspec": {
   "display_name": "Python 3",
   "language": "python",
   "name": "python3"
  },
  "language_info": {
   "codemirror_mode": {
    "name": "ipython",
    "version": 3
   },
   "file_extension": ".py",
   "mimetype": "text/x-python",
   "name": "python",
   "nbconvert_exporter": "python",
   "pygments_lexer": "ipython3",
   "version": "3.6.4"
  }
 },
 "nbformat": 4,
 "nbformat_minor": 2
}
